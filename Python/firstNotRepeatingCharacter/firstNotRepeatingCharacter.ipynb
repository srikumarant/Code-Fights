{
 "cells": [
  {
   "cell_type": "code",
   "execution_count": 26,
   "metadata": {
    "collapsed": false
   },
   "outputs": [],
   "source": [
    "def firstNotRepeatingCharacter(s):    \n",
    "    repeat_dict = {}\n",
    "    index_dict = {} \n",
    "    s = s.lower()\n",
    "    \n",
    "#   if len(s) >= 1 and len(s) <= 10^5:\n",
    "    if len(s) >= 1:\n",
    "        for x in range(len(s)):        \n",
    "            lt = s[x]\n",
    "        \n",
    "            if lt in repeat_dict:\n",
    "                repeat_dict[lt] += 1\n",
    "            else:\n",
    "                repeat_dict[lt] = 1\n",
    "            \n",
    "            if lt not in index_dict:\n",
    "                index_dict[lt] = x\n",
    "\n",
    "\n",
    "    onetime_occ = [key for (key,value) in repeat_dict.items() if value == 1]\n",
    "    if len(onetime_occ) < 1:\n",
    "        return '_'\n",
    "    \n",
    "    index_dict = dict([(key,value) for (key,value) in index_dict.items() if key in onetime_occ])\n",
    "    min_lt = min(index_dict, key= index_dict.get)\n",
    "    \n",
    "    return min_lt"
   ]
  },
  {
   "cell_type": "code",
   "execution_count": 27,
   "metadata": {
    "collapsed": false
   },
   "outputs": [
    {
     "data": {
      "text/plain": [
       "'d'"
      ]
     },
     "execution_count": 27,
     "metadata": {},
     "output_type": "execute_result"
    }
   ],
   "source": [
    "firstNotRepeatingCharacter(\"abcdefghijklmnopqrstuvwxyziflskecznslkjfabe\")"
   ]
  },
  {
   "cell_type": "code",
   "execution_count": 38,
   "metadata": {
    "collapsed": true
   },
   "outputs": [],
   "source": [
    "def firstNotRepeatingCharacter(s):\n",
    "    for c in s:\n",
    "#       print(c, \"\", s.find(c), \"==\", s.rfind(c))\n",
    "        if s.find(c) == s.rfind(c):\n",
    "            return c\n",
    "    return '_'  "
   ]
  },
  {
   "cell_type": "code",
   "execution_count": 39,
   "metadata": {
    "collapsed": false
   },
   "outputs": [
    {
     "data": {
      "text/plain": [
       "'d'"
      ]
     },
     "execution_count": 39,
     "metadata": {},
     "output_type": "execute_result"
    }
   ],
   "source": [
    "firstNotRepeatingCharacter(\"abcdefghijklmnopqrstuvwxyziflskecznslkjfabe\")"
   ]
  }
 ],
 "metadata": {
  "anaconda-cloud": {},
  "kernelspec": {
   "display_name": "Python [default]",
   "language": "python",
   "name": "python3"
  },
  "language_info": {
   "codemirror_mode": {
    "name": "ipython",
    "version": 3
   },
   "file_extension": ".py",
   "mimetype": "text/x-python",
   "name": "python",
   "nbconvert_exporter": "python",
   "pygments_lexer": "ipython3",
   "version": "3.5.4"
  }
 },
 "nbformat": 4,
 "nbformat_minor": 1
}
