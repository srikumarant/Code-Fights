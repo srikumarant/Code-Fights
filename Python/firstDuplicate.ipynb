{
 "cells": [
  {
   "cell_type": "code",
   "execution_count": 17,
   "metadata": {
    "collapsed": false
   },
   "outputs": [],
   "source": [
    "def firstDuplicate(a):\n",
    "    dict = {}\n",
    "    gotit = 0\n",
    "    if len(a) >=1 and len(a) <= 10^5:  \n",
    "        for x in range(len(a)):\n",
    "            if a[x] >=1 and a[x] <= len(a):\n",
    "                if a[x] in dict:\n",
    "                    dict[a[x]] += 1\n",
    "                else:\n",
    "                    dict[a[x]] = 1\n",
    "\n",
    "                if(dict[a[x]] > 1):\n",
    "                    return a[x]\n",
    "\n",
    "    if not gotit:\n",
    "        return -1"
   ]
  },
  {
   "cell_type": "code",
   "execution_count": 18,
   "metadata": {
    "collapsed": false
   },
   "outputs": [
    {
     "data": {
      "text/plain": [
       "1"
      ]
     },
     "execution_count": 18,
     "metadata": {},
     "output_type": "execute_result"
    }
   ],
   "source": [
    "firstDuplicate([1, 1, 2, 2, 1])"
   ]
  },
  {
   "cell_type": "code",
   "execution_count": 21,
   "metadata": {
    "collapsed": true
   },
   "outputs": [],
   "source": [
    "def firstDuplicate(a):\n",
    "    if len(a) >=1 and len(a) <= 10^5:\n",
    "        for x in range(len(a)):\n",
    "            if a[x] >=1 and a[x] <= len(a):\n",
    "                if(a[abs(a[x])-1])<0:\n",
    "                    return abs(a[x])\n",
    "                else:\n",
    "                    a[abs(a[x])-1] = -a[abs(a[x])-1]\n",
    "    return -1            "
   ]
  },
  {
   "cell_type": "code",
   "execution_count": 23,
   "metadata": {
    "collapsed": false
   },
   "outputs": [
    {
     "data": {
      "text/plain": [
       "1"
      ]
     },
     "execution_count": 23,
     "metadata": {},
     "output_type": "execute_result"
    }
   ],
   "source": [
    "firstDuplicate([1, 1, 2, 10, 1])"
   ]
  }
 ],
 "metadata": {
  "anaconda-cloud": {},
  "kernelspec": {
   "display_name": "Python [default]",
   "language": "python",
   "name": "python3"
  },
  "language_info": {
   "codemirror_mode": {
    "name": "ipython",
    "version": 3
   },
   "file_extension": ".py",
   "mimetype": "text/x-python",
   "name": "python",
   "nbconvert_exporter": "python",
   "pygments_lexer": "ipython3",
   "version": "3.5.4"
  }
 },
 "nbformat": 4,
 "nbformat_minor": 1
}
