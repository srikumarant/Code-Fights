{
 "cells": [
  {
   "cell_type": "markdown",
   "metadata": {},
   "source": [
    "Write a function that returns the sum of two numbers.\n",
    "\n",
    "Example\n",
    "\n",
    "For param1 = 1 and param2 = 2, the output should be\n",
    "add(param1, param2) = 3.\n",
    "\n",
    "Input/Output\n",
    "\n",
    "[execution time limit] 4 seconds (py3)\n",
    "\n",
    "[input] integer param1\n",
    "\n",
    "Guaranteed constraints:\n",
    "-100 ≤ param1 ≤ 1000.\n",
    "\n",
    "[input] integer param2\n",
    "\n",
    "Guaranteed constraints:\n",
    "-100 ≤ param2 ≤ 1000.\n",
    "\n",
    "[output] integer\n",
    "\n",
    "The sum of the two inputs."
   ]
  },
  {
   "cell_type": "code",
   "execution_count": 1,
   "metadata": {
    "collapsed": true
   },
   "outputs": [],
   "source": [
    "def add(param1, param2):\n",
    "    if param1>= -100 and param1<= 1000:\n",
    "        if param2>= -100 and param1<= 1000:\n",
    "            return param1 + param2"
   ]
  },
  {
   "cell_type": "code",
   "execution_count": 2,
   "metadata": {
    "collapsed": false
   },
   "outputs": [
    {
     "data": {
      "text/plain": [
       "102"
      ]
     },
     "execution_count": 2,
     "metadata": {},
     "output_type": "execute_result"
    }
   ],
   "source": [
    "add(2,100)"
   ]
  }
 ],
 "metadata": {
  "anaconda-cloud": {},
  "kernelspec": {
   "display_name": "Python [default]",
   "language": "python",
   "name": "python3"
  },
  "language_info": {
   "codemirror_mode": {
    "name": "ipython",
    "version": 3
   },
   "file_extension": ".py",
   "mimetype": "text/x-python",
   "name": "python",
   "nbconvert_exporter": "python",
   "pygments_lexer": "ipython3",
   "version": "3.5.4"
  }
 },
 "nbformat": 4,
 "nbformat_minor": 1
}
