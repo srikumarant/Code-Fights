{
 "cells": [
  {
   "cell_type": "markdown",
   "metadata": {},
   "source": [
    "Given the string, check if it is a palindrome.\n",
    "\n",
    "Example\n",
    "\n",
    "For inputString = \"aabaa\", the output should be\n",
    "checkPalindrome(inputString) = true;\n",
    "For inputString = \"abac\", the output should be\n",
    "checkPalindrome(inputString) = false;\n",
    "For inputString = \"a\", the output should be\n",
    "checkPalindrome(inputString) = true.\n",
    "Input/Output\n",
    "\n",
    "[execution time limit] 4 seconds (py3)\n",
    "\n",
    "[input] string inputString\n",
    "\n",
    "A non-empty string consisting of lowercase characters.\n",
    "\n",
    "Guaranteed constraints:\n",
    "1 ≤ inputString.length ≤ 105.\n",
    "\n",
    "[output] boolean\n",
    "\n",
    "true if inputString is a palindrome, false otherwise."
   ]
  },
  {
   "cell_type": "code",
   "execution_count": 18,
   "metadata": {
    "collapsed": false
   },
   "outputs": [],
   "source": [
    "def checkPalindrome(inputString):\n",
    "    if inputString == inputString[::-1]:\n",
    "        return True\n",
    "    else:\n",
    "        return False"
   ]
  },
  {
   "cell_type": "code",
   "execution_count": 19,
   "metadata": {
    "collapsed": false
   },
   "outputs": [
    {
     "data": {
      "text/plain": [
       "True"
      ]
     },
     "execution_count": 19,
     "metadata": {},
     "output_type": "execute_result"
    }
   ],
   "source": [
    "checkPalindrome('madam')"
   ]
  }
 ],
 "metadata": {
  "kernelspec": {
   "display_name": "Python [default]",
   "language": "python",
   "name": "python3"
  },
  "language_info": {
   "codemirror_mode": {
    "name": "ipython",
    "version": 3
   },
   "file_extension": ".py",
   "mimetype": "text/x-python",
   "name": "python",
   "nbconvert_exporter": "python",
   "pygments_lexer": "ipython3",
   "version": "3.5.4"
  }
 },
 "nbformat": 4,
 "nbformat_minor": 1
}
